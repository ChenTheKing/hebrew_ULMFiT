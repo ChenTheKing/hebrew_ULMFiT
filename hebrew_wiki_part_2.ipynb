{
 "cells": [
  {
   "cell_type": "code",
   "execution_count": 1,
   "metadata": {},
   "outputs": [],
   "source": [
    "%reload_ext autoreload\n",
    "%autoreload 2\n",
    "%matplotlib inline"
   ]
  },
  {
   "cell_type": "code",
   "execution_count": 2,
   "metadata": {},
   "outputs": [],
   "source": [
    "from fastai.text import *"
   ]
  },
  {
   "cell_type": "markdown",
   "metadata": {},
   "source": [
    "### load the model"
   ]
  },
  {
   "cell_type": "code",
   "execution_count": 3,
   "metadata": {},
   "outputs": [],
   "source": [
    "path = \"data/wiki/\""
   ]
  },
  {
   "cell_type": "code",
   "execution_count": 26,
   "metadata": {},
   "outputs": [],
   "source": [
    "wiki_data_old = load_data(path, 'wiki_data_old.pkl')"
   ]
  },
  {
   "cell_type": "code",
   "execution_count": 5,
   "metadata": {},
   "outputs": [],
   "source": [
    "learn_generate = language_model_learner(wiki_data_old, AWD_LSTM)\n",
    "learn_generate.load(\"heb_model_save_2\")"
   ]
  },
  {
   "cell_type": "markdown",
   "metadata": {},
   "source": [
    "### change the vocab"
   ]
  },
  {
   "cell_type": "code",
   "execution_count": 7,
   "metadata": {},
   "outputs": [],
   "source": [
    "bad_char = \" \".join(\"אבגדהוזחטיכלמנסעפצקרשתךףךןabcdefghijklmnopqrstuvwxyz\").split(\" \")\n",
    "for char in bad_char:\n",
    "    if learn_generate.data.vocab.stoi.get(char, False):\n",
    "        learn_generate.data.vocab.stoi[char] = 0"
   ]
  },
  {
   "cell_type": "code",
   "execution_count": 8,
   "metadata": {},
   "outputs": [],
   "source": [
    "learn_generate.save(\"heb_model_save_3\")"
   ]
  },
  {
   "cell_type": "markdown",
   "metadata": {},
   "source": [
    "### re-load the wiki data"
   ]
  },
  {
   "cell_type": "code",
   "execution_count": 9,
   "metadata": {},
   "outputs": [],
   "source": [
    "# load all the text file inside the directory\n",
    "src = TextList.from_folder(path, vocab=learn_generate.data.vocab).random_split_by_pct(0.1).label_for_lm(ignore_empty=True)\n",
    "wiki_data = src.databunch(bs=48)"
   ]
  },
  {
   "cell_type": "code",
   "execution_count": 10,
   "metadata": {},
   "outputs": [],
   "source": [
    "wiki_data.save(\"wiki_data.pkl\")"
   ]
  },
  {
   "cell_type": "markdown",
   "metadata": {},
   "source": [
    "### create final model"
   ]
  },
  {
   "cell_type": "code",
   "execution_count": 34,
   "metadata": {},
   "outputs": [
    {
     "data": {
      "text/plain": [
       "446"
      ]
     },
     "execution_count": 34,
     "metadata": {},
     "output_type": "execute_result"
    }
   ],
   "source": [
    "gc.collect()"
   ]
  },
  {
   "cell_type": "code",
   "execution_count": 4,
   "metadata": {},
   "outputs": [],
   "source": [
    "wiki_data = load_data(path, \"wiki_data.pkl\")"
   ]
  },
  {
   "cell_type": "code",
   "execution_count": 5,
   "metadata": {},
   "outputs": [],
   "source": [
    "# create the model from the data\n",
    "learn_generate = language_model_learner(wiki_data, AWD_LSTM, pretrained=\"heb_model_save_3\")"
   ]
  },
  {
   "cell_type": "code",
   "execution_count": 13,
   "metadata": {},
   "outputs": [
    {
     "data": {
      "text/html": [
       "<table border=\"1\" class=\"dataframe\">\n",
       "  <thead>\n",
       "    <tr style=\"text-align: right;\">\n",
       "      <th>idx</th>\n",
       "      <th>text</th>\n",
       "    </tr>\n",
       "  </thead>\n",
       "  <tbody>\n",
       "    <tr>\n",
       "      <td>0</td>\n",
       "      <td>והקבוצה . \\n  ניתן למצוא xxunk של הרעיונות הבסיסיים בטקסטים המתמטיים xxunk המצרים , הבבלים , ההודים , הסינים , היוונים והמוסלמים . \\n  כבר בשלב מוקדם בלטו שלושה מאפיינים המלווים את המתמטיקה עד היום : . \\n  הפשטה : אף שמקורם של חלק מן העצמים המתמטיים בעולם הממשי , הדיון המתמטי בהם כרוך xxunk ניכרת . \\n  המספר 5 עשוי לייצג 5 אבנים או 5</td>\n",
       "    </tr>\n",
       "    <tr>\n",
       "      <td>1</td>\n",
       "      <td>הציבור הרחב . \\n  חברת xxunk , xxunk לסיום הפרויקט xxunk עיניים , בעודה רואה כיצד הדפדפן הקודם שלה הולך ומאבד את אחיזתו בשוק , הוציאה את גרסה xxunk של הדפדפן שלה על בסיס אחת הגרסאות המוקדמות ( xxmaj xxunk 18 ) . \\n  היא ספגה ביקורת קשה על כך , משום xxunk ירש xxunk באגים רבים , xxunk רק מאוחר יותר , וגרם לה בכך נזק xxunk</td>\n",
       "    </tr>\n",
       "    <tr>\n",
       "      <td>2</td>\n",
       "      <td>התחום נמצא במרכז העיסוק של ענף חקר ביצועים במתמטיקה xxunk . \\n  הקביעה איזה ערך נחשב xxunk , תלויה בתנאי הבעיה . \\n  בבעיות מסוימות ערך אופטימלי הינו ערך מקסימלי של הפונקציה תחת ההגבלות xxunk , xxunk אחרות זהו הערך המינימלי . \\n  הקושי במציאת הערך האופטימלי תלוי בפונקציה המבוקשת ובתחום בו יש לבצע אופטימיזציה . \\n  בעיות אופטימיזציה מסוימות הן xxup np קשות , בעוד</td>\n",
       "    </tr>\n",
       "    <tr>\n",
       "      <td>3</td>\n",
       "      <td>מתחילת שנות התשעים הגיעו xxunk למעלה xxunk - 800 משפחות עולים , רובן מחבר העמים לשעבר . \\n  יהוד - מונוסון מונה כיום xxunk תושבים xxunk משקי בית . \\n  העיר עברה התרחבות ניכרת עם הקמתה של שכונת קריית xxunk היוקרתית בשנים 1992 - 1995 , אשר קדמו xxunk השכונות קריית ביאליסטוק , גבעת xxunk xxunk עובד , בעלות אוכלוסייה סוציו - xxunk גבוהה אשר שינו את אופיה</td>\n",
       "    </tr>\n",
       "    <tr>\n",
       "      <td>4</td>\n",
       "      <td>לאחר פרסומו הראשוני של תבורי , הפך השיר \" הלנה \" ללהיט . \\n  ההתקדמות המשמעותית בקריירה של תבורי החלה לאחר שדוד חלפון שמע אותו , בחתונה שבה הופיע , מבצע את השיר \" אשליות \" , שאותו כתב חלפון xxunk סרוסי . \\n  חלפון xxunk בין תבורי לבין עוזי חיטמן , שעשה את צעדיו הראשונים ככותב xxunk לאחר שחרורו מצה\"ל . \\n  בשנת 1976 הוליד שיתוף</td>\n",
       "    </tr>\n",
       "  </tbody>\n",
       "</table>"
      ],
      "text/plain": [
       "<IPython.core.display.HTML object>"
      ]
     },
     "metadata": {},
     "output_type": "display_data"
    }
   ],
   "source": [
    "learn_generate.data.show_batch()"
   ]
  },
  {
   "cell_type": "markdown",
   "metadata": {},
   "source": [
    "### train the model"
   ]
  },
  {
   "cell_type": "code",
   "execution_count": 6,
   "metadata": {},
   "outputs": [],
   "source": [
    "learn_generate.unfreeze()"
   ]
  },
  {
   "cell_type": "code",
   "execution_count": 15,
   "metadata": {},
   "outputs": [
    {
     "data": {
      "text/html": [],
      "text/plain": [
       "<IPython.core.display.HTML object>"
      ]
     },
     "metadata": {},
     "output_type": "display_data"
    },
    {
     "name": "stdout",
     "output_type": "stream",
     "text": [
      "LR Finder is complete, type {learner_name}.recorder.plot() to see the graph.\n"
     ]
    },
    {
     "data": {
      "image/png": "[encoded data removed]",
      "text/plain": [
       "<Figure size 432x288 with 1 Axes>"
      ]
     },
     "metadata": {
      "needs_background": "light"
     },
     "output_type": "display_data"
    }
   ],
   "source": [
    "learn_generate.lr_find()\n",
    "learn_generate.recorder.plot()"
   ]
  },
  {
   "cell_type": "code",
   "execution_count": 7,
   "metadata": {},
   "outputs": [
    {
     "data": {
      "text/html": [
       "Total time: 2:38:19 <p><table border=\"1\" class=\"dataframe\">\n",
       "  <thead>\n",
       "    <tr style=\"text-align: left;\">\n",
       "      <th>epoch</th>\n",
       "      <th>train_loss</th>\n",
       "      <th>valid_loss</th>\n",
       "      <th>accuracy</th>\n",
       "      <th>time</th>\n",
       "    </tr>\n",
       "  </thead>\n",
       "  <tbody>\n",
       "    <tr>\n",
       "      <td>1</td>\n",
       "      <td>4.913231</td>\n",
       "      <td></td>\n",
       "      <td>2:38:19</td>\n",
       "    </tr>\n",
       "  </tbody>\n",
       "</table>"
      ],
      "text/plain": [
       "<IPython.core.display.HTML object>"
      ]
     },
     "metadata": {},
     "output_type": "display_data"
    }
   ],
   "source": [
    "learn_generate.fit_one_cycle(1, 1e-2, moms=(0.8,0.7))"
   ]
  },
  {
   "cell_type": "code",
   "execution_count": 8,
   "metadata": {},
   "outputs": [],
   "source": [
    "learn_generate.save(\"heb_model_save_4\")"
   ]
  },
  {
   "cell_type": "code",
   "execution_count": 25,
   "metadata": {},
   "outputs": [
    {
     "data": {
      "image/png": "[encoded data removed]",
      "text/plain": [
       "<Figure size 432x288 with 1 Axes>"
      ]
     },
     "metadata": {
      "needs_background": "light"
     },
     "output_type": "display_data"
    }
   ],
   "source": [
    "# learn_generate.recorder.plot_losses()\n",
    "plt.plot(range(len(learn_generate.recorder.losses)), learn_generate.recorder.losses, \"-\")\n",
    "plt.show()"
   ]
  },
  {
   "cell_type": "markdown",
   "metadata": {},
   "source": [
    "##  results"
   ]
  },
  {
   "cell_type": "markdown",
   "metadata": {},
   "source": [
    "the result seem very promising! <br>\n",
    "whithout touch the data at all, and with 3 epoch, we achive very Reasonable results."
   ]
  },
  {
   "cell_type": "code",
   "execution_count": 20,
   "metadata": {},
   "outputs": [
    {
     "name": "stdout",
     "output_type": "stream",
     "text": [
      "כאשר הגיע עד למזרח אירופה , טקטיקה זו הייתה המובילה בהיסטוריה . \n",
      "  בין טירות שפירוש זה היה ידידו של הפתרון , זאב ובין השאר ( למשל : שפירושו מגן בעל נפש ) , בעוד לתופעה יש שתי דרכים חדשות באשר לכל\n"
     ]
    }
   ],
   "source": [
    "TEXT = \"כאשר הגיע\"\n",
    "N_WORDS = 40\n",
    "N_SENTENCES = 1\n",
    "print(\"\\n\".join(learn_generate.predict(TEXT, N_WORDS, temperature=0.9) for _ in range(N_SENTENCES)))"
   ]
  },
  {
   "cell_type": "markdown",
   "metadata": {},
   "source": [
    "## export model"
   ]
  },
  {
   "cell_type": "code",
   "execution_count": 4,
   "metadata": {},
   "outputs": [],
   "source": [
    "wiki_data = load_data(path, 'wiki_data.pkl')"
   ]
  },
  {
   "cell_type": "code",
   "execution_count": 5,
   "metadata": {},
   "outputs": [],
   "source": [
    "learn_generate = language_model_learner(wiki_data, AWD_LSTM)\n",
    "learn_generate.load(\"heb_model_save_4\")"
   ]
  },
  {
   "cell_type": "code",
   "execution_count": 7,
   "metadata": {},
   "outputs": [],
   "source": [
    "learn_generate.export(\"wiki-heb.pkl\")"
   ]
  }
 ],
 "metadata": {
  "kernelspec": {
   "display_name": "Python 3",
   "language": "python",
   "name": "python3"
  },
  "language_info": {
   "codemirror_mode": {
    "name": "ipython",
    "version": 3
   },
   "file_extension": ".py",
   "mimetype": "text/x-python",
   "name": "python",
   "nbconvert_exporter": "python",
   "pygments_lexer": "ipython3",
   "version": "3.7.2"
  }
 },
 "nbformat": 4,
 "nbformat_minor": 2
}
